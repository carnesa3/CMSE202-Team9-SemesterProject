{
 "cells": [
  {
   "cell_type": "code",
   "execution_count": 1,
   "metadata": {},
   "outputs": [],
   "source": [
    "#some imports \n",
    "import matplotlib.pyplot as plt\n",
    "%matplotlib inline\n",
    "import pandas as pd\n",
    "import numpy as np\n",
    "import seaborn as sns"
   ]
  },
  {
   "cell_type": "code",
   "execution_count": 2,
   "metadata": {},
   "outputs": [
    {
     "data": {
      "text/html": [
       "<div>\n",
       "<style scoped>\n",
       "    .dataframe tbody tr th:only-of-type {\n",
       "        vertical-align: middle;\n",
       "    }\n",
       "\n",
       "    .dataframe tbody tr th {\n",
       "        vertical-align: top;\n",
       "    }\n",
       "\n",
       "    .dataframe thead th {\n",
       "        text-align: right;\n",
       "    }\n",
       "</style>\n",
       "<table border=\"1\" class=\"dataframe\">\n",
       "  <thead>\n",
       "    <tr style=\"text-align: right;\">\n",
       "      <th></th>\n",
       "      <th>country</th>\n",
       "      <th>1990</th>\n",
       "      <th>1991</th>\n",
       "      <th>1992</th>\n",
       "      <th>1993</th>\n",
       "      <th>1994</th>\n",
       "      <th>1995</th>\n",
       "      <th>1996</th>\n",
       "      <th>1997</th>\n",
       "      <th>1998</th>\n",
       "      <th>...</th>\n",
       "      <th>2002</th>\n",
       "      <th>2003</th>\n",
       "      <th>2004</th>\n",
       "      <th>2005</th>\n",
       "      <th>2006</th>\n",
       "      <th>2007</th>\n",
       "      <th>2008</th>\n",
       "      <th>2009</th>\n",
       "      <th>2010</th>\n",
       "      <th>2011</th>\n",
       "    </tr>\n",
       "  </thead>\n",
       "  <tbody>\n",
       "    <tr>\n",
       "      <th>0</th>\n",
       "      <td>Afghanistan</td>\n",
       "      <td>2160000.0</td>\n",
       "      <td>2210000.0</td>\n",
       "      <td>2290000.0</td>\n",
       "      <td>2400000.0</td>\n",
       "      <td>2510000.0</td>\n",
       "      <td>2610000.0</td>\n",
       "      <td>2720000.0</td>\n",
       "      <td>2810000.0</td>\n",
       "      <td>2880000.0</td>\n",
       "      <td>...</td>\n",
       "      <td>3110000.0</td>\n",
       "      <td>3150000.0</td>\n",
       "      <td>3190000.0</td>\n",
       "      <td>3230000.0</td>\n",
       "      <td>3260000.0</td>\n",
       "      <td>3290000.0</td>\n",
       "      <td>3320000.0</td>\n",
       "      <td>3360000.0</td>\n",
       "      <td>3400000.0</td>\n",
       "      <td>3400000.0</td>\n",
       "    </tr>\n",
       "    <tr>\n",
       "      <th>1</th>\n",
       "      <td>Albania</td>\n",
       "      <td>2080000.0</td>\n",
       "      <td>2560000.0</td>\n",
       "      <td>2560000.0</td>\n",
       "      <td>595000.0</td>\n",
       "      <td>409000.0</td>\n",
       "      <td>409000.0</td>\n",
       "      <td>409000.0</td>\n",
       "      <td>409000.0</td>\n",
       "      <td>27700.0</td>\n",
       "      <td>...</td>\n",
       "      <td>305000.0</td>\n",
       "      <td>296000.0</td>\n",
       "      <td>296000.0</td>\n",
       "      <td>296000.0</td>\n",
       "      <td>296000.0</td>\n",
       "      <td>430000.0</td>\n",
       "      <td>430000.0</td>\n",
       "      <td>430000.0</td>\n",
       "      <td>430000.0</td>\n",
       "      <td>430000.0</td>\n",
       "    </tr>\n",
       "    <tr>\n",
       "      <th>2</th>\n",
       "      <td>Algeria</td>\n",
       "      <td>124000.0</td>\n",
       "      <td>172000.0</td>\n",
       "      <td>139000.0</td>\n",
       "      <td>239000.0</td>\n",
       "      <td>166000.0</td>\n",
       "      <td>194000.0</td>\n",
       "      <td>190000.0</td>\n",
       "      <td>203000.0</td>\n",
       "      <td>222000.0</td>\n",
       "      <td>...</td>\n",
       "      <td>121000.0</td>\n",
       "      <td>164000.0</td>\n",
       "      <td>184000.0</td>\n",
       "      <td>141000.0</td>\n",
       "      <td>141000.0</td>\n",
       "      <td>152000.0</td>\n",
       "      <td>121000.0</td>\n",
       "      <td>139000.0</td>\n",
       "      <td>135000.0</td>\n",
       "      <td>119000.0</td>\n",
       "    </tr>\n",
       "    <tr>\n",
       "      <th>3</th>\n",
       "      <td>Angola</td>\n",
       "      <td>3190000.0</td>\n",
       "      <td>3280000.0</td>\n",
       "      <td>3380000.0</td>\n",
       "      <td>3670000.0</td>\n",
       "      <td>3750000.0</td>\n",
       "      <td>3780000.0</td>\n",
       "      <td>3840000.0</td>\n",
       "      <td>3930000.0</td>\n",
       "      <td>4050000.0</td>\n",
       "      <td>...</td>\n",
       "      <td>4420000.0</td>\n",
       "      <td>4500000.0</td>\n",
       "      <td>4580000.0</td>\n",
       "      <td>4670000.0</td>\n",
       "      <td>4750000.0</td>\n",
       "      <td>4840000.0</td>\n",
       "      <td>4920000.0</td>\n",
       "      <td>5010000.0</td>\n",
       "      <td>5110000.0</td>\n",
       "      <td>5200000.0</td>\n",
       "    </tr>\n",
       "    <tr>\n",
       "      <th>4</th>\n",
       "      <td>Argentina</td>\n",
       "      <td>10200000.0</td>\n",
       "      <td>10400000.0</td>\n",
       "      <td>11700000.0</td>\n",
       "      <td>10300000.0</td>\n",
       "      <td>10800000.0</td>\n",
       "      <td>11600000.0</td>\n",
       "      <td>11500000.0</td>\n",
       "      <td>11500000.0</td>\n",
       "      <td>12300000.0</td>\n",
       "      <td>...</td>\n",
       "      <td>11500000.0</td>\n",
       "      <td>13000000.0</td>\n",
       "      <td>15000000.0</td>\n",
       "      <td>14300000.0</td>\n",
       "      <td>14000000.0</td>\n",
       "      <td>13700000.0</td>\n",
       "      <td>13100000.0</td>\n",
       "      <td>14100000.0</td>\n",
       "      <td>15000000.0</td>\n",
       "      <td>15200000.0</td>\n",
       "    </tr>\n",
       "  </tbody>\n",
       "</table>\n",
       "<p>5 rows × 23 columns</p>\n",
       "</div>"
      ],
      "text/plain": [
       "       country        1990        1991        1992        1993        1994  \\\n",
       "0  Afghanistan   2160000.0   2210000.0   2290000.0   2400000.0   2510000.0   \n",
       "1      Albania   2080000.0   2560000.0   2560000.0    595000.0    409000.0   \n",
       "2      Algeria    124000.0    172000.0    139000.0    239000.0    166000.0   \n",
       "3       Angola   3190000.0   3280000.0   3380000.0   3670000.0   3750000.0   \n",
       "4    Argentina  10200000.0  10400000.0  11700000.0  10300000.0  10800000.0   \n",
       "\n",
       "         1995        1996        1997        1998     ...            2002  \\\n",
       "0   2610000.0   2720000.0   2810000.0   2880000.0     ...       3110000.0   \n",
       "1    409000.0    409000.0    409000.0     27700.0     ...        305000.0   \n",
       "2    194000.0    190000.0    203000.0    222000.0     ...        121000.0   \n",
       "3   3780000.0   3840000.0   3930000.0   4050000.0     ...       4420000.0   \n",
       "4  11600000.0  11500000.0  11500000.0  12300000.0     ...      11500000.0   \n",
       "\n",
       "         2003        2004        2005        2006        2007        2008  \\\n",
       "0   3150000.0   3190000.0   3230000.0   3260000.0   3290000.0   3320000.0   \n",
       "1    296000.0    296000.0    296000.0    296000.0    430000.0    430000.0   \n",
       "2    164000.0    184000.0    141000.0    141000.0    152000.0    121000.0   \n",
       "3   4500000.0   4580000.0   4670000.0   4750000.0   4840000.0   4920000.0   \n",
       "4  13000000.0  15000000.0  14300000.0  14000000.0  13700000.0  13100000.0   \n",
       "\n",
       "         2009        2010        2011  \n",
       "0   3360000.0   3400000.0   3400000.0  \n",
       "1    430000.0    430000.0    430000.0  \n",
       "2    139000.0    135000.0    119000.0  \n",
       "3   5010000.0   5110000.0   5200000.0  \n",
       "4  14100000.0  15000000.0  15200000.0  \n",
       "\n",
       "[5 rows x 23 columns]"
      ]
     },
     "execution_count": 2,
     "metadata": {},
     "output_type": "execute_result"
    }
   ],
   "source": [
    "#importing our data\n",
    "forest = pd.read_csv('wood_removal.csv')\n",
    "sea = pd.read_csv('sealevelepa.csv')\n",
    "forest.head()"
   ]
  },
  {
   "cell_type": "code",
   "execution_count": 3,
   "metadata": {},
   "outputs": [
    {
     "data": {
      "text/plain": [
       "173"
      ]
     },
     "execution_count": 3,
     "metadata": {},
     "output_type": "execute_result"
    }
   ],
   "source": [
    "len(forest)"
   ]
  },
  {
   "cell_type": "code",
   "execution_count": 4,
   "metadata": {},
   "outputs": [
    {
     "name": "stdout",
     "output_type": "stream",
     "text": [
      "<class 'pandas.core.frame.DataFrame'>\n",
      "RangeIndex: 173 entries, 0 to 172\n",
      "Data columns (total 23 columns):\n",
      "country    173 non-null object\n",
      "1990       146 non-null float64\n",
      "1991       147 non-null float64\n",
      "1992       153 non-null float64\n",
      "1993       155 non-null float64\n",
      "1994       155 non-null float64\n",
      "1995       157 non-null float64\n",
      "1996       158 non-null float64\n",
      "1997       159 non-null float64\n",
      "1998       163 non-null float64\n",
      "1999       165 non-null float64\n",
      "2000       167 non-null float64\n",
      "2001       168 non-null float64\n",
      "2002       169 non-null float64\n",
      "2003       169 non-null float64\n",
      "2004       171 non-null float64\n",
      "2005       171 non-null float64\n",
      "2006       171 non-null float64\n",
      "2007       171 non-null float64\n",
      "2008       171 non-null float64\n",
      "2009       171 non-null float64\n",
      "2010       171 non-null float64\n",
      "2011       172 non-null float64\n",
      "dtypes: float64(22), object(1)\n",
      "memory usage: 31.2+ KB\n"
     ]
    }
   ],
   "source": [
    "forest.info()"
   ]
  },
  {
   "cell_type": "code",
   "execution_count": 5,
   "metadata": {},
   "outputs": [],
   "source": [
    "forest_reduced = forest[['2004', '2005','2006','2007','2008','2009','2010']]"
   ]
  },
  {
   "cell_type": "code",
   "execution_count": 6,
   "metadata": {},
   "outputs": [
    {
     "data": {
      "text/html": [
       "<div>\n",
       "<style scoped>\n",
       "    .dataframe tbody tr th:only-of-type {\n",
       "        vertical-align: middle;\n",
       "    }\n",
       "\n",
       "    .dataframe tbody tr th {\n",
       "        vertical-align: top;\n",
       "    }\n",
       "\n",
       "    .dataframe thead th {\n",
       "        text-align: right;\n",
       "    }\n",
       "</style>\n",
       "<table border=\"1\" class=\"dataframe\">\n",
       "  <thead>\n",
       "    <tr style=\"text-align: right;\">\n",
       "      <th></th>\n",
       "      <th>2004</th>\n",
       "      <th>2005</th>\n",
       "      <th>2006</th>\n",
       "      <th>2007</th>\n",
       "      <th>2008</th>\n",
       "      <th>2009</th>\n",
       "      <th>2010</th>\n",
       "    </tr>\n",
       "  </thead>\n",
       "  <tbody>\n",
       "    <tr>\n",
       "      <th>0</th>\n",
       "      <td>3190000.0</td>\n",
       "      <td>3230000.0</td>\n",
       "      <td>3260000.0</td>\n",
       "      <td>3290000.0</td>\n",
       "      <td>3320000.0</td>\n",
       "      <td>3360000.0</td>\n",
       "      <td>3400000.0</td>\n",
       "    </tr>\n",
       "    <tr>\n",
       "      <th>1</th>\n",
       "      <td>296000.0</td>\n",
       "      <td>296000.0</td>\n",
       "      <td>296000.0</td>\n",
       "      <td>430000.0</td>\n",
       "      <td>430000.0</td>\n",
       "      <td>430000.0</td>\n",
       "      <td>430000.0</td>\n",
       "    </tr>\n",
       "    <tr>\n",
       "      <th>2</th>\n",
       "      <td>184000.0</td>\n",
       "      <td>141000.0</td>\n",
       "      <td>141000.0</td>\n",
       "      <td>152000.0</td>\n",
       "      <td>121000.0</td>\n",
       "      <td>139000.0</td>\n",
       "      <td>135000.0</td>\n",
       "    </tr>\n",
       "  </tbody>\n",
       "</table>\n",
       "</div>"
      ],
      "text/plain": [
       "        2004       2005       2006       2007       2008       2009       2010\n",
       "0  3190000.0  3230000.0  3260000.0  3290000.0  3320000.0  3360000.0  3400000.0\n",
       "1   296000.0   296000.0   296000.0   430000.0   430000.0   430000.0   430000.0\n",
       "2   184000.0   141000.0   141000.0   152000.0   121000.0   139000.0   135000.0"
      ]
     },
     "execution_count": 6,
     "metadata": {},
     "output_type": "execute_result"
    }
   ],
   "source": [
    "forest_reduced.head(3)"
   ]
  },
  {
   "cell_type": "code",
   "execution_count": 7,
   "metadata": {},
   "outputs": [
    {
     "name": "stdout",
     "output_type": "stream",
     "text": [
      "<class 'pandas.core.frame.DataFrame'>\n",
      "RangeIndex: 173 entries, 0 to 172\n",
      "Data columns (total 7 columns):\n",
      "2004    171 non-null float64\n",
      "2005    171 non-null float64\n",
      "2006    171 non-null float64\n",
      "2007    171 non-null float64\n",
      "2008    171 non-null float64\n",
      "2009    171 non-null float64\n",
      "2010    171 non-null float64\n",
      "dtypes: float64(7)\n",
      "memory usage: 9.5 KB\n"
     ]
    }
   ],
   "source": [
    "forest_reduced.info()"
   ]
  },
  {
   "cell_type": "code",
   "execution_count": 8,
   "metadata": {},
   "outputs": [
    {
     "data": {
      "text/plain": [
       "[<matplotlib.lines.Line2D at 0x22cf0132be0>,\n",
       " <matplotlib.lines.Line2D at 0x22cf0132d30>,\n",
       " <matplotlib.lines.Line2D at 0x22cf0132e80>,\n",
       " <matplotlib.lines.Line2D at 0x22cf0132fd0>,\n",
       " <matplotlib.lines.Line2D at 0x22cf0141160>,\n",
       " <matplotlib.lines.Line2D at 0x22cf01412b0>,\n",
       " <matplotlib.lines.Line2D at 0x22cf0141400>]"
      ]
     },
     "execution_count": 8,
     "metadata": {},
     "output_type": "execute_result"
    },
    {
     "data": {
      "image/png": "[encoded data removed]",
      "text/plain": [
       "<Figure size 432x288 with 1 Axes>"
      ]
     },
     "metadata": {
      "needs_background": "light"
     },
     "output_type": "display_data"
    }
   ],
   "source": [
    "plt.plot(forest_reduced)"
   ]
  },
  {
   "cell_type": "code",
   "execution_count": 9,
   "metadata": {},
   "outputs": [],
   "source": [
    "#sea = pd.read_csv('sealevels.txt', header=None)\n",
    "#sep=\" \""
   ]
  },
  {
   "cell_type": "code",
   "execution_count": 10,
   "metadata": {},
   "outputs": [
    {
     "data": {
      "text/html": [
       "<div>\n",
       "<style scoped>\n",
       "    .dataframe tbody tr th:only-of-type {\n",
       "        vertical-align: middle;\n",
       "    }\n",
       "\n",
       "    .dataframe tbody tr th {\n",
       "        vertical-align: top;\n",
       "    }\n",
       "\n",
       "    .dataframe thead th {\n",
       "        text-align: right;\n",
       "    }\n",
       "</style>\n",
       "<table border=\"1\" class=\"dataframe\">\n",
       "  <thead>\n",
       "    <tr style=\"text-align: right;\">\n",
       "      <th></th>\n",
       "      <th>Year</th>\n",
       "      <th>CSIRO Adjusted Sea Level</th>\n",
       "      <th>Lower Error Bound</th>\n",
       "      <th>Upper Error Bound</th>\n",
       "      <th>NOAA Adjusted Sea Level</th>\n",
       "    </tr>\n",
       "  </thead>\n",
       "  <tbody>\n",
       "    <tr>\n",
       "      <th>0</th>\n",
       "      <td>1880-03-15</td>\n",
       "      <td>0.000000</td>\n",
       "      <td>-0.952756</td>\n",
       "      <td>0.952756</td>\n",
       "      <td>NaN</td>\n",
       "    </tr>\n",
       "    <tr>\n",
       "      <th>1</th>\n",
       "      <td>1881-03-15</td>\n",
       "      <td>0.220472</td>\n",
       "      <td>-0.732283</td>\n",
       "      <td>1.173228</td>\n",
       "      <td>NaN</td>\n",
       "    </tr>\n",
       "    <tr>\n",
       "      <th>2</th>\n",
       "      <td>1882-03-15</td>\n",
       "      <td>-0.440945</td>\n",
       "      <td>-1.346457</td>\n",
       "      <td>0.464567</td>\n",
       "      <td>NaN</td>\n",
       "    </tr>\n",
       "  </tbody>\n",
       "</table>\n",
       "</div>"
      ],
      "text/plain": [
       "         Year  CSIRO Adjusted Sea Level  Lower Error Bound  Upper Error Bound  \\\n",
       "0  1880-03-15                  0.000000          -0.952756           0.952756   \n",
       "1  1881-03-15                  0.220472          -0.732283           1.173228   \n",
       "2  1882-03-15                 -0.440945          -1.346457           0.464567   \n",
       "\n",
       "   NOAA Adjusted Sea Level  \n",
       "0                      NaN  \n",
       "1                      NaN  \n",
       "2                      NaN  "
      ]
     },
     "execution_count": 10,
     "metadata": {},
     "output_type": "execute_result"
    }
   ],
   "source": [
    "sea.head(3)"
   ]
  },
  {
   "cell_type": "code",
   "execution_count": 31,
   "metadata": {},
   "outputs": [
    {
     "data": {
      "text/html": [
       "<div>\n",
       "<style scoped>\n",
       "    .dataframe tbody tr th:only-of-type {\n",
       "        vertical-align: middle;\n",
       "    }\n",
       "\n",
       "    .dataframe tbody tr th {\n",
       "        vertical-align: top;\n",
       "    }\n",
       "\n",
       "    .dataframe thead th {\n",
       "        text-align: right;\n",
       "    }\n",
       "</style>\n",
       "<table border=\"1\" class=\"dataframe\">\n",
       "  <thead>\n",
       "    <tr style=\"text-align: right;\">\n",
       "      <th></th>\n",
       "      <th>Year</th>\n",
       "      <th>CSIRO Adjusted Sea Level</th>\n",
       "    </tr>\n",
       "  </thead>\n",
       "  <tbody>\n",
       "    <tr>\n",
       "      <th>0</th>\n",
       "      <td>1880-03-15</td>\n",
       "      <td>0.000000</td>\n",
       "    </tr>\n",
       "    <tr>\n",
       "      <th>1</th>\n",
       "      <td>1881-03-15</td>\n",
       "      <td>0.220472</td>\n",
       "    </tr>\n",
       "    <tr>\n",
       "      <th>2</th>\n",
       "      <td>1882-03-15</td>\n",
       "      <td>-0.440945</td>\n",
       "    </tr>\n",
       "  </tbody>\n",
       "</table>\n",
       "</div>"
      ],
      "text/plain": [
       "         Year  CSIRO Adjusted Sea Level\n",
       "0  1880-03-15                  0.000000\n",
       "1  1881-03-15                  0.220472\n",
       "2  1882-03-15                 -0.440945"
      ]
     },
     "execution_count": 31,
     "metadata": {},
     "output_type": "execute_result"
    }
   ],
   "source": [
    "sea_reduced = sea[['Year', 'CSIRO Adjusted Sea Level']]\n",
    "sea_reduced.head(3)"
   ]
  },
  {
   "cell_type": "code",
   "execution_count": 13,
   "metadata": {},
   "outputs": [
    {
     "name": "stdout",
     "output_type": "stream",
     "text": [
      "<class 'pandas.core.frame.DataFrame'>\n",
      "RangeIndex: 135 entries, 0 to 134\n",
      "Data columns (total 5 columns):\n",
      "Year                        135 non-null object\n",
      "CSIRO Adjusted Sea Level    134 non-null float64\n",
      "Lower Error Bound           134 non-null float64\n",
      "Upper Error Bound           134 non-null float64\n",
      "NOAA Adjusted Sea Level     22 non-null float64\n",
      "dtypes: float64(4), object(1)\n",
      "memory usage: 5.4+ KB\n"
     ]
    }
   ],
   "source": [
    "sea.info()"
   ]
  },
  {
   "cell_type": "code",
   "execution_count": 32,
   "metadata": {},
   "outputs": [
    {
     "name": "stdout",
     "output_type": "stream",
     "text": [
      "<class 'pandas.core.frame.DataFrame'>\n",
      "RangeIndex: 3192 entries, 0 to 3191\n",
      "Data columns (total 9 columns):\n",
      "dt                                           3192 non-null object\n",
      "LandAverageTemperature                       3180 non-null float64\n",
      "LandAverageTemperatureUncertainty            3180 non-null float64\n",
      "LandMaxTemperature                           1992 non-null float64\n",
      "LandMaxTemperatureUncertainty                1992 non-null float64\n",
      "LandMinTemperature                           1992 non-null float64\n",
      "LandMinTemperatureUncertainty                1992 non-null float64\n",
      "LandAndOceanAverageTemperature               1992 non-null float64\n",
      "LandAndOceanAverageTemperatureUncertainty    1992 non-null float64\n",
      "dtypes: float64(8), object(1)\n",
      "memory usage: 224.5+ KB\n"
     ]
    }
   ],
   "source": [
    "land = pd.read_csv('GlobalTemperature.csv')\n",
    "   #Parenthesis give group of string, inside bracket you define information\n",
    "                                                    #A-Za-z anything can be concluded, + to extend to wahtever side you want\n",
    "                                                    #\\. means to stop at the period\n",
    "# land['Year'] = land['dt'].str.extract('\\-',expand=True)\n",
    "# #land['Year'] = land['dt'].str.extract('(+)\\-',expand=True)\n",
    "# land['Year'][:5]\n",
    "land.info()"
   ]
  },
  {
   "cell_type": "code",
   "execution_count": 30,
   "metadata": {},
   "outputs": [
    {
     "data": {
      "text/html": [
       "<div>\n",
       "<style scoped>\n",
       "    .dataframe tbody tr th:only-of-type {\n",
       "        vertical-align: middle;\n",
       "    }\n",
       "\n",
       "    .dataframe tbody tr th {\n",
       "        vertical-align: top;\n",
       "    }\n",
       "\n",
       "    .dataframe thead th {\n",
       "        text-align: right;\n",
       "    }\n",
       "</style>\n",
       "<table border=\"1\" class=\"dataframe\">\n",
       "  <thead>\n",
       "    <tr style=\"text-align: right;\">\n",
       "      <th></th>\n",
       "      <th>dt</th>\n",
       "      <th>LandAverageTemperature</th>\n",
       "    </tr>\n",
       "  </thead>\n",
       "  <tbody>\n",
       "    <tr>\n",
       "      <th>0</th>\n",
       "      <td>1750-01-01</td>\n",
       "      <td>3.034</td>\n",
       "    </tr>\n",
       "    <tr>\n",
       "      <th>1</th>\n",
       "      <td>1750-02-01</td>\n",
       "      <td>3.083</td>\n",
       "    </tr>\n",
       "    <tr>\n",
       "      <th>2</th>\n",
       "      <td>1750-03-01</td>\n",
       "      <td>5.626</td>\n",
       "    </tr>\n",
       "    <tr>\n",
       "      <th>3</th>\n",
       "      <td>1750-04-01</td>\n",
       "      <td>8.490</td>\n",
       "    </tr>\n",
       "    <tr>\n",
       "      <th>4</th>\n",
       "      <td>1750-05-01</td>\n",
       "      <td>11.573</td>\n",
       "    </tr>\n",
       "  </tbody>\n",
       "</table>\n",
       "</div>"
      ],
      "text/plain": [
       "           dt  LandAverageTemperature\n",
       "0  1750-01-01                   3.034\n",
       "1  1750-02-01                   3.083\n",
       "2  1750-03-01                   5.626\n",
       "3  1750-04-01                   8.490\n",
       "4  1750-05-01                  11.573"
      ]
     },
     "execution_count": 30,
     "metadata": {},
     "output_type": "execute_result"
    }
   ],
   "source": [
    "land_reduced = land[['dt', 'LandAverageTemperature']]\n",
    "#land_reduced.isnull.sum()\n",
    "land_reduced.head()"
   ]
  },
  {
   "cell_type": "code",
   "execution_count": 24,
   "metadata": {},
   "outputs": [],
   "source": [
    "land1=land_reduced['dt'].str[:4]\n",
    "land1.head()"
   ]
  },
  {
   "cell_type": "code",
   "execution_count": 29,
   "metadata": {},
   "outputs": [],
   "source": [
    "land2 = land1.astype('float64', copy=False)\n",
    "landata=[]\n",
    "for i in land2:\n",
    "    landata.append(land['LandAverageTemperature'])\n",
    "#landata"
   ]
  },
  {
   "cell_type": "code",
   "execution_count": 28,
   "metadata": {},
   "outputs": [
    {
     "data": {
      "text/plain": [
       "<matplotlib.collections.PathCollection at 0x22cf092f9e8>"
      ]
     },
     "execution_count": 28,
     "metadata": {},
     "output_type": "execute_result"
    },
    {
     "data": {
      "image/png": "[encoded data removed]",
      "text/plain": [
       "<Figure size 432x288 with 1 Axes>"
      ]
     },
     "metadata": {
      "needs_background": "light"
     },
     "output_type": "display_data"
    }
   ],
   "source": [
    "plt.scatter(land1,land['LandAverageTemperature'])"
   ]
  }
 ],
 "metadata": {
  "kernelspec": {
   "display_name": "Python 3",
   "language": "python",
   "name": "python3"
  },
  "language_info": {
   "codemirror_mode": {
    "name": "ipython",
    "version": 3
   },
   "file_extension": ".py",
   "mimetype": "text/x-python",
   "name": "python",
   "nbconvert_exporter": "python",
   "pygments_lexer": "ipython3",
   "version": "3.7.1"
  }
 },
 "nbformat": 4,
 "nbformat_minor": 2
}
